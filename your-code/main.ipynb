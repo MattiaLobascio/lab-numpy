{
 "cells": [
  {
   "cell_type": "markdown",
   "metadata": {},
   "source": [
    "# Intrduction to NumPy\n",
    "\n",
    "\n",
    "#### 1. Import NumPy under the name np."
   ]
  },
  {
   "cell_type": "code",
   "execution_count": 79,
   "metadata": {},
   "outputs": [],
   "source": [
    "# your code here\n",
    "import numpy as np"
   ]
  },
  {
   "cell_type": "markdown",
   "metadata": {},
   "source": [
    "#### 2. Print your NumPy version."
   ]
  },
  {
   "cell_type": "code",
   "execution_count": 80,
   "metadata": {},
   "outputs": [
    {
     "name": "stdout",
     "output_type": "stream",
     "text": [
      "1.17.3\n"
     ]
    }
   ],
   "source": [
    "# your code here\n",
    "print(np.version.version)"
   ]
  },
  {
   "cell_type": "markdown",
   "metadata": {},
   "source": [
    "#### 3. Generate a 2x3x5 3-dimensional array with random values. Assign the array to variable *a*.\n",
    "**Challenge**: there are at least three easy ways that use numpy to generate random arrays. How many ways can you find?"
   ]
  },
  {
   "cell_type": "code",
   "execution_count": 81,
   "metadata": {},
   "outputs": [
    {
     "name": "stdout",
     "output_type": "stream",
     "text": [
      "[[[0.27311985 0.03465887 0.22221441 0.78393803 0.30659928]\n",
      "  [0.75788693 0.4201673  0.55869072 0.74734216 0.39027151]\n",
      "  [0.65764303 0.05248178 0.70198932 0.81799566 0.85737568]]\n",
      "\n",
      " [[0.3069704  0.87229758 0.11767223 0.16495809 0.59018924]\n",
      "  [0.84559491 0.90258597 0.80742494 0.62290233 0.30888967]\n",
      "  [0.07091466 0.79460005 0.77640589 0.54677592 0.56660105]]]\n"
     ]
    }
   ],
   "source": [
    "# Method 1\n",
    "a = np.random.random((2,3,5))\n",
    "\n",
    "#OR a = np.random.rand(2,3,5)\n",
    "\n",
    "print(a)"
   ]
  },
  {
   "cell_type": "code",
   "execution_count": 82,
   "metadata": {},
   "outputs": [
    {
     "name": "stdout",
     "output_type": "stream",
     "text": [
      "[[[0.42945002 0.60105052 0.02083866 0.12014776 0.13224093]\n",
      "  [0.61362046 0.74382264 0.10584652 0.28666462 0.48324301]\n",
      "  [0.30953783 0.12304357 0.49434917 0.33838127 0.89898461]]\n",
      "\n",
      " [[0.32002822 0.682813   0.16168835 0.97711396 0.77073794]\n",
      "  [0.50624622 0.69605808 0.31827209 0.20355265 0.96689331]\n",
      "  [0.63596785 0.26940964 0.99227566 0.00504087 0.29335792]]]\n"
     ]
    }
   ],
   "source": [
    "# Method 2\n",
    "N=2\n",
    "M=3\n",
    "Z=5\n",
    "a = np.array([[[np.random.random() for z in range(Z)]for m in range(M)] for n in range(N)])\n",
    "\n",
    "print(a)"
   ]
  },
  {
   "cell_type": "code",
   "execution_count": 83,
   "metadata": {},
   "outputs": [
    {
     "name": "stdout",
     "output_type": "stream",
     "text": [
      "[[[2 1 3 2 9]\n",
      "  [5 3 1 7 8]\n",
      "  [9 0 6 8 6]]\n",
      "\n",
      " [[8 1 0 7 2]\n",
      "  [8 1 8 2 6]\n",
      "  [4 3 0 1 3]]]\n"
     ]
    }
   ],
   "source": [
    "# Method 3\n",
    "a = np.random.randint(0, 10, (2,3,5))\n",
    "print(a)"
   ]
  },
  {
   "cell_type": "markdown",
   "metadata": {},
   "source": [
    "#### 4. Print *a*.\n"
   ]
  },
  {
   "cell_type": "code",
   "execution_count": 84,
   "metadata": {},
   "outputs": [
    {
     "name": "stdout",
     "output_type": "stream",
     "text": [
      "[[[2 1 3 2 9]\n",
      "  [5 3 1 7 8]\n",
      "  [9 0 6 8 6]]\n",
      "\n",
      " [[8 1 0 7 2]\n",
      "  [8 1 8 2 6]\n",
      "  [4 3 0 1 3]]]\n",
      "\n",
      "\n",
      "[[2 1 3 2 9]\n",
      " [5 3 1 7 8]\n",
      " [9 0 6 8 6]]\n",
      "\n",
      "\n",
      "[[2 1 3 2 9]\n",
      " [8 1 0 7 2]]\n",
      "\n",
      "\n",
      "[[2 5 9]\n",
      " [8 8 4]]\n",
      "\n",
      "\n",
      "2\n",
      "\n",
      "\n",
      "\n",
      "\n",
      "[2 1 3 2 9]\n",
      "\n",
      "\n",
      "[2 5 9]\n"
     ]
    }
   ],
   "source": [
    "# your code here\n",
    "print(a)\n",
    "print(\"\\n\")\n",
    "print(a[0]) #Prints the 1st sub-array\n",
    "print(\"\\n\")\n",
    "print(a[:,0]) #Prints the 1st row of each sub-array\n",
    "print(\"\\n\")\n",
    "print(a[:,:,0]) #Prints the 1st column of the array\n",
    "print(\"\\n\")\n",
    "print(a[0][0][0]) #Prints the 1st element of the array\n",
    "print(\"\\n\")\n",
    "print(\"\\n\")\n",
    "print(a[0][0]) #Prints the 1st row of the 1st sub-array\n",
    "print(\"\\n\")\n",
    "print(a[0][:,0]) #Prints the 1st column of the 1st sub-array\n",
    "\n"
   ]
  },
  {
   "cell_type": "markdown",
   "metadata": {},
   "source": [
    "#### 5. Create a 5x2x3 3-dimensional array with all values equaling 1. Assign the array to variable *b*."
   ]
  },
  {
   "cell_type": "code",
   "execution_count": 85,
   "metadata": {},
   "outputs": [],
   "source": [
    "# your code here\n",
    "b = np.full((5,2,3), 1)"
   ]
  },
  {
   "cell_type": "markdown",
   "metadata": {},
   "source": [
    "#### 6. Print *b*.\n"
   ]
  },
  {
   "cell_type": "code",
   "execution_count": 86,
   "metadata": {},
   "outputs": [
    {
     "name": "stdout",
     "output_type": "stream",
     "text": [
      "[[[1 1 1]\n",
      "  [1 1 1]]\n",
      "\n",
      " [[1 1 1]\n",
      "  [1 1 1]]\n",
      "\n",
      " [[1 1 1]\n",
      "  [1 1 1]]\n",
      "\n",
      " [[1 1 1]\n",
      "  [1 1 1]]\n",
      "\n",
      " [[1 1 1]\n",
      "  [1 1 1]]]\n"
     ]
    }
   ],
   "source": [
    "# your code here\n",
    "print(b)"
   ]
  },
  {
   "cell_type": "markdown",
   "metadata": {},
   "source": [
    "#### 7. Do *a* and *b* have the same size? How do you prove that in Python code?"
   ]
  },
  {
   "cell_type": "code",
   "execution_count": 88,
   "metadata": {},
   "outputs": [
    {
     "name": "stdout",
     "output_type": "stream",
     "text": [
      "30\n",
      "30\n"
     ]
    }
   ],
   "source": [
    "# your code here\n",
    "print(np.size(a))\n",
    "\n",
    "print(np.size(b))"
   ]
  },
  {
   "cell_type": "markdown",
   "metadata": {},
   "source": [
    "#### 8. Are you able to add *a* and *b*? Why or why not?\n"
   ]
  },
  {
   "cell_type": "code",
   "execution_count": 89,
   "metadata": {},
   "outputs": [
    {
     "name": "stdout",
     "output_type": "stream",
     "text": [
      "(2, 3, 5)\n",
      "(5, 2, 3)\n"
     ]
    },
    {
     "ename": "ValueError",
     "evalue": "operands could not be broadcast together with shapes (2,3,5) (5,2,3) ",
     "output_type": "error",
     "traceback": [
      "\u001b[0;31m---------------------------------------------------------------------------\u001b[0m",
      "\u001b[0;31mValueError\u001b[0m                                Traceback (most recent call last)",
      "\u001b[0;32m<ipython-input-89-95bea1c1aaca>\u001b[0m in \u001b[0;36m<module>\u001b[0;34m\u001b[0m\n\u001b[1;32m      2\u001b[0m \u001b[0mprint\u001b[0m\u001b[0;34m(\u001b[0m\u001b[0mnp\u001b[0m\u001b[0;34m.\u001b[0m\u001b[0mshape\u001b[0m\u001b[0;34m(\u001b[0m\u001b[0ma\u001b[0m\u001b[0;34m)\u001b[0m\u001b[0;34m)\u001b[0m\u001b[0;34m\u001b[0m\u001b[0;34m\u001b[0m\u001b[0m\n\u001b[1;32m      3\u001b[0m \u001b[0mprint\u001b[0m\u001b[0;34m(\u001b[0m\u001b[0mnp\u001b[0m\u001b[0;34m.\u001b[0m\u001b[0mshape\u001b[0m\u001b[0;34m(\u001b[0m\u001b[0mb\u001b[0m\u001b[0;34m)\u001b[0m\u001b[0;34m)\u001b[0m\u001b[0;34m\u001b[0m\u001b[0;34m\u001b[0m\u001b[0m\n\u001b[0;32m----> 4\u001b[0;31m \u001b[0mc\u001b[0m \u001b[0;34m=\u001b[0m \u001b[0mnp\u001b[0m\u001b[0;34m.\u001b[0m\u001b[0madd\u001b[0m\u001b[0;34m(\u001b[0m\u001b[0ma\u001b[0m\u001b[0;34m,\u001b[0m\u001b[0mb\u001b[0m\u001b[0;34m)\u001b[0m \u001b[0;31m#or c = a + b\u001b[0m\u001b[0;34m\u001b[0m\u001b[0;34m\u001b[0m\u001b[0m\n\u001b[0m\u001b[1;32m      5\u001b[0m \u001b[0;34m\u001b[0m\u001b[0m\n\u001b[1;32m      6\u001b[0m \u001b[0;31m#the 2 cannot be added since they have different shapes\u001b[0m\u001b[0;34m\u001b[0m\u001b[0;34m\u001b[0m\u001b[0;34m\u001b[0m\u001b[0m\n",
      "\u001b[0;31mValueError\u001b[0m: operands could not be broadcast together with shapes (2,3,5) (5,2,3) "
     ]
    }
   ],
   "source": [
    "# your answer here\n",
    "print(np.shape(a))\n",
    "print(np.shape(b))\n",
    "c = np.add(a,b) #or c = a + b\n",
    "\n",
    "#the 2 cannot be added since they have different shapes"
   ]
  },
  {
   "cell_type": "markdown",
   "metadata": {},
   "source": [
    "#### 9. Transpose *b* so that it has the same structure of *a* (i.e. become a 2x3x5 array). Assign the transposed array to variable *c*."
   ]
  },
  {
   "cell_type": "code",
   "execution_count": 102,
   "metadata": {},
   "outputs": [
    {
     "name": "stdout",
     "output_type": "stream",
     "text": [
      "[[[1 1 1 1 1]\n",
      "  [1 1 1 1 1]\n",
      "  [1 1 1 1 1]]\n",
      "\n",
      " [[1 1 1 1 1]\n",
      "  [1 1 1 1 1]\n",
      "  [1 1 1 1 1]]]\n",
      "30\n",
      "(2, 3, 5)\n"
     ]
    }
   ],
   "source": [
    "# your code here\n",
    "\n",
    "c = np.transpose(b, (1,2,0))\n",
    "\n",
    "print(c)\n",
    "print(np.size(c))\n",
    "print(np.shape(c))"
   ]
  },
  {
   "cell_type": "markdown",
   "metadata": {},
   "source": [
    "#### 10. Try to add *a* and *c*. Now it should work. Assign the sum to variable *d*. But why does it work now?"
   ]
  },
  {
   "cell_type": "code",
   "execution_count": 103,
   "metadata": {},
   "outputs": [
    {
     "name": "stdout",
     "output_type": "stream",
     "text": [
      "[[[ 3  2  4  3 10]\n",
      "  [ 6  4  2  8  9]\n",
      "  [10  1  7  9  7]]\n",
      "\n",
      " [[ 9  2  1  8  3]\n",
      "  [ 9  2  9  3  7]\n",
      "  [ 5  4  1  2  4]]]\n"
     ]
    }
   ],
   "source": [
    "# your code/answer here\n",
    "d = np.add(a,c)\n",
    "\n",
    "print(d)\n",
    "\n",
    "#It now works because, given the identical shape, each value of a can be actually summed to\n",
    "#the respecive mirror one in c (Matrix Algebra)"
   ]
  },
  {
   "cell_type": "markdown",
   "metadata": {},
   "source": [
    "#### 11. Print *a* and *d*. Notice the difference and relation of the two array in terms of the values? Explain."
   ]
  },
  {
   "cell_type": "code",
   "execution_count": 104,
   "metadata": {},
   "outputs": [
    {
     "name": "stdout",
     "output_type": "stream",
     "text": [
      "[[[2 1 3 2 9]\n",
      "  [5 3 1 7 8]\n",
      "  [9 0 6 8 6]]\n",
      "\n",
      " [[8 1 0 7 2]\n",
      "  [8 1 8 2 6]\n",
      "  [4 3 0 1 3]]]\n",
      "\n",
      "\n",
      "[[[ 3  2  4  3 10]\n",
      "  [ 6  4  2  8  9]\n",
      "  [10  1  7  9  7]]\n",
      "\n",
      " [[ 9  2  1  8  3]\n",
      "  [ 9  2  9  3  7]\n",
      "  [ 5  4  1  2  4]]]\n"
     ]
    }
   ],
   "source": [
    "# your code/answer here\n",
    "print(a)\n",
    "print(\"\\n\")\n",
    "print(d)\n",
    "\n",
    "#YES, each value of d = a + 1"
   ]
  },
  {
   "cell_type": "markdown",
   "metadata": {},
   "source": [
    "#### 12. Multiply *a* and *c*. Assign the result to *e*."
   ]
  },
  {
   "cell_type": "code",
   "execution_count": 105,
   "metadata": {},
   "outputs": [
    {
     "name": "stdout",
     "output_type": "stream",
     "text": [
      "[[[2 1 3 2 9]\n",
      "  [5 3 1 7 8]\n",
      "  [9 0 6 8 6]]\n",
      "\n",
      " [[8 1 0 7 2]\n",
      "  [8 1 8 2 6]\n",
      "  [4 3 0 1 3]]]\n"
     ]
    }
   ],
   "source": [
    "# your code here\n",
    "e  = np.multiply(a,c)\n",
    "\n",
    "print(e)"
   ]
  },
  {
   "cell_type": "markdown",
   "metadata": {},
   "source": [
    "#### 13. Does *e* equal to *a*? Why or why not?\n"
   ]
  },
  {
   "cell_type": "code",
   "execution_count": 106,
   "metadata": {},
   "outputs": [
    {
     "name": "stdout",
     "output_type": "stream",
     "text": [
      "[[[0 0 0 0 0]\n",
      "  [0 0 0 0 0]\n",
      "  [0 0 0 0 0]]\n",
      "\n",
      " [[0 0 0 0 0]\n",
      "  [0 0 0 0 0]\n",
      "  [0 0 0 0 0]]]\n"
     ]
    }
   ],
   "source": [
    "# your code/answer here\n",
    "check = e - a\n",
    "print(check)\n",
    "\n",
    "#YES, it does, since multiply a times c, corresponds to multiply each value of a for\n",
    "#each value of c, but each value of c == 1, thus e == a"
   ]
  },
  {
   "cell_type": "markdown",
   "metadata": {},
   "source": [
    "#### 14. Identify the max, min, and mean values in *d*. Assign those values to variables *d_max*, *d_min* and *d_mean*."
   ]
  },
  {
   "cell_type": "code",
   "execution_count": 107,
   "metadata": {},
   "outputs": [
    {
     "name": "stdout",
     "output_type": "stream",
     "text": [
      "[[[ 3  2  4  3 10]\n",
      "  [ 6  4  2  8  9]\n",
      "  [10  1  7  9  7]]\n",
      "\n",
      " [[ 9  2  1  8  3]\n",
      "  [ 9  2  9  3  7]\n",
      "  [ 5  4  1  2  4]]]\n",
      "\n",
      "\n",
      "10\n",
      "\n",
      "\n",
      "1\n",
      "\n",
      "\n",
      "5.133333333333334\n",
      "\n",
      "\n"
     ]
    }
   ],
   "source": [
    "# your code here\n",
    "print(d)\n",
    "print(\"\\n\")\n",
    "d_max = np.max(d)\n",
    "print(d_max)\n",
    "print(\"\\n\")\n",
    "d_min = np.min(d)\n",
    "print(d_min)\n",
    "print(\"\\n\")\n",
    "d_mean = np.mean(d)\n",
    "print(d_mean)\n",
    "print(\"\\n\")"
   ]
  },
  {
   "cell_type": "markdown",
   "metadata": {},
   "source": [
    "#### 15. Now we want to label the values in *d*. First create an empty array *f* with the same shape (i.e. 2x3x5) as *d* using `np.empty`.\n"
   ]
  },
  {
   "cell_type": "code",
   "execution_count": 110,
   "metadata": {},
   "outputs": [
    {
     "name": "stdout",
     "output_type": "stream",
     "text": [
      "[[[ 3  2  4  3 10]\n",
      "  [ 6  4  2  8  9]\n",
      "  [10  1  7  9  7]]\n",
      "\n",
      " [[ 9  2  1  8  3]\n",
      "  [ 9  2  9  3  7]\n",
      "  [ 5  4  1  2  4]]]\n",
      "[[[6.91118483e-310 1.70763791e-316 0.00000000e+000 0.00000000e+000\n",
      "   0.00000000e+000]\n",
      "  [5.02034658e+175 1.61964606e-051 2.57642435e-056 4.66541477e-033\n",
      "   1.53154679e-047]\n",
      "  [1.47763641e+248 1.16096346e-028 7.69165785e+218 1.35617292e+248\n",
      "   6.07870605e+170]]\n",
      "\n",
      " [[1.11597885e-046 8.97800512e-067 4.08606197e+179 4.30712432e-096\n",
      "   6.32299154e+233]\n",
      "  [6.48224638e+170 5.22411352e+257 5.74020278e+180 8.37174974e-144\n",
      "   1.41529402e+161]\n",
      "  [9.16651763e-072 4.95463596e+097 1.69422171e-052 2.91142527e+126\n",
      "   6.91118335e-310]]]\n"
     ]
    }
   ],
   "source": [
    "# your code here\n",
    "f = np.empty((2,3,5))\n",
    "print(d)\n",
    "print(f)"
   ]
  },
  {
   "cell_type": "markdown",
   "metadata": {},
   "source": [
    "#### 16. Populate the values in *f*. \n",
    "\n",
    "For each value in *d*, if it's larger than *d_min* but smaller than *d_mean*, assign 25 to the corresponding value in *f*. If a value in *d* is larger than *d_mean* but smaller than *d_max*, assign 75 to the corresponding value in *f*. If a value equals to *d_mean*, assign 50 to the corresponding value in *f*. Assign 0 to the corresponding value(s) in *f* for *d_min* in *d*. Assign 100 to the corresponding value(s) in *f* for *d_max* in *d*. In the end, f should have only the following values: 0, 25, 50, 75, and 100.\n",
    "\n",
    "**Note**: you don't have to use Numpy in this question."
   ]
  },
  {
   "cell_type": "code",
   "execution_count": 115,
   "metadata": {},
   "outputs": [],
   "source": [
    "# your code here\n",
    "f[(d_min < d) & (d < d_mean)] = 25\n",
    "f[(d_mean < d) & (d < d_max)] = 75\n",
    "f[d == d_mean] = 50\n",
    "f[d == d_min] = 0\n",
    "f[d == d_max] = 100\n"
   ]
  },
  {
   "cell_type": "markdown",
   "metadata": {},
   "source": [
    "#### 17. Print *d* and *f*. Do you have your expected *f*?\n",
    "For instance, if your *d* is:\n",
    "```python\n",
    "[[[1.85836099, 1.67064465, 1.62576044, 1.40243961, 1.88454931],\n",
    "[1.75354326, 1.69403643, 1.36729252, 1.61415071, 1.12104981],\n",
    "[1.72201435, 1.1862918 , 1.87078449, 1.7726778 , 1.88180042]],\n",
    "[[1.44747908, 1.31673383, 1.02000951, 1.52218947, 1.97066381],\n",
    "[1.79129243, 1.74983003, 1.96028037, 1.85166831, 1.65450881],\n",
    "[1.18068344, 1.9587381 , 1.00656599, 1.93402165, 1.73514584]]]\n",
    "```\n",
    "Your *f* should be:\n",
    "```python\n",
    "[[[ 75.,  75.,  75.,  25.,  75.],\n",
    "[ 75.,  75.,  25.,  25.,  25.],\n",
    "[ 75.,  25.,  75.,  75.,  75.]],\n",
    "[[ 25.,  25.,  25.,  25., 100.],\n",
    "[ 75.,  75.,  75.,  75.,  75.],\n",
    "[ 25.,  75.,   0.,  75.,  75.]]]\n",
    "```"
   ]
  },
  {
   "cell_type": "code",
   "execution_count": 116,
   "metadata": {},
   "outputs": [
    {
     "name": "stdout",
     "output_type": "stream",
     "text": [
      "[[[ 3  2  4  3 10]\n",
      "  [ 6  4  2  8  9]\n",
      "  [10  1  7  9  7]]\n",
      "\n",
      " [[ 9  2  1  8  3]\n",
      "  [ 9  2  9  3  7]\n",
      "  [ 5  4  1  2  4]]]\n",
      "\n",
      "\n",
      "[[[ 25.  25.  25.  25. 100.]\n",
      "  [ 75.  25.  25.  75.  75.]\n",
      "  [100.   0.  75.  75.  75.]]\n",
      "\n",
      " [[ 75.  25.   0.  75.  25.]\n",
      "  [ 75.  25.  75.  25.  75.]\n",
      "  [ 25.  25.   0.  25.  25.]]]\n"
     ]
    }
   ],
   "source": [
    "# your code here\n",
    "print(d)\n",
    "print(\"\\n\")\n",
    "print(f)"
   ]
  },
  {
   "cell_type": "markdown",
   "metadata": {},
   "source": [
    "#### 18. Bonus question: instead of using numbers (i.e. 0, 25, 50, 75, and 100), use string values  (\"A\", \"B\", \"C\", \"D\", and \"E\") to label the array elements. For the example above, the expected result is:\n",
    "\n",
    "```python\n",
    "[[[ 'D',  'D',  'D',  'B',  'D'],\n",
    "[ 'D',  'D',  'B',  'B',  'B'],\n",
    "[ 'D',  'B',  'D',  'D',  'D']],\n",
    "[[ 'B',  'B',  'B',  'B',  'E'],\n",
    "[ 'D',  'D',  'D',  'D',  'D'],\n",
    "[ 'B',  'D',   'A',  'D', 'D']]]\n",
    "```\n",
    "**Note**: you don't have to use Numpy in this question."
   ]
  },
  {
   "cell_type": "code",
   "execution_count": 122,
   "metadata": {},
   "outputs": [
    {
     "name": "stdout",
     "output_type": "stream",
     "text": [
      "[[[ 3  2  4  3 10]\n",
      "  [ 6  4  2  8  9]\n",
      "  [10  1  7  9  7]]\n",
      "\n",
      " [[ 9  2  1  8  3]\n",
      "  [ 9  2  9  3  7]\n",
      "  [ 5  4  1  2  4]]]\n",
      "\n",
      "\n",
      "[[['A' 'A' 'A' 'A' 'E']\n",
      "  ['B' 'A' 'A' 'B' 'B']\n",
      "  ['E' 'D' 'B' 'B' 'B']]\n",
      "\n",
      " [['B' 'A' 'D' 'B' 'A']\n",
      "  ['B' 'A' 'B' 'A' 'B']\n",
      "  ['A' 'A' 'D' 'A' 'A']]]\n"
     ]
    }
   ],
   "source": [
    "# your code here\n",
    "g = np.empty((2,3,5), dtype=str)\n",
    "\n",
    "g[(d_min < d) & (d < d_mean)] = \"A\"\n",
    "g[(d_mean < d) & (d < d_max)] = \"B\"\n",
    "g[d == d_mean] = \"C\"\n",
    "g[d == d_min] = \"D\"\n",
    "g[d == d_max] = \"E\"\n",
    "\n",
    "print(d)\n",
    "print(\"\\n\")\n",
    "print(g)"
   ]
  }
 ],
 "metadata": {
  "kernelspec": {
   "display_name": "Python 3",
   "language": "python",
   "name": "python3"
  },
  "language_info": {
   "codemirror_mode": {
    "name": "ipython",
    "version": 3
   },
   "file_extension": ".py",
   "mimetype": "text/x-python",
   "name": "python",
   "nbconvert_exporter": "python",
   "pygments_lexer": "ipython3",
   "version": "3.6.8"
  }
 },
 "nbformat": 4,
 "nbformat_minor": 2
}
